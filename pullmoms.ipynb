{
  "nbformat": 4,
  "nbformat_minor": 0,
  "metadata": {
    "colab": {
      "provenance": [],
      "include_colab_link": true
    },
    "kernelspec": {
      "name": "python3",
      "display_name": "Python 3"
    },
    "language_info": {
      "name": "python"
    }
  },
  "cells": [
    {
      "cell_type": "markdown",
      "metadata": {
        "id": "view-in-github",
        "colab_type": "text"
      },
      "source": [
        "<a href=\"https://colab.research.google.com/github/nkchaithu/summary_extraction_from_web/blob/main/pullmoms.ipynb\" target=\"_parent\"><img src=\"https://colab.research.google.com/assets/colab-badge.svg\" alt=\"Open In Colab\"/></a>"
      ]
    },
    {
      "cell_type": "code",
      "source": [
        "import nltk"
      ],
      "metadata": {
        "id": "PG4DVX_n-_Yi"
      },
      "execution_count": 71,
      "outputs": []
    },
    {
      "cell_type": "code",
      "source": [
        "from nltk.corpus import wordnet\n",
        "\n",
        "# import nltk\n",
        "nltk.download('wordnet')\n",
        "\n",
        "for words in wordnet.synsets(\"Fun\"):\n",
        "  print(words)"
      ],
      "metadata": {
        "colab": {
          "base_uri": "https://localhost:8080/"
        },
        "id": "noUgr5DK6D0k",
        "outputId": "68ac3c21-39b9-4d37-ce75-847a80ba3b17"
      },
      "execution_count": 72,
      "outputs": [
        {
          "output_type": "stream",
          "name": "stderr",
          "text": [
            "[nltk_data] Downloading package wordnet to /root/nltk_data...\n"
          ]
        },
        {
          "output_type": "stream",
          "name": "stdout",
          "text": [
            "Synset('fun.n.01')\n",
            "Synset('fun.n.02')\n",
            "Synset('fun.n.03')\n",
            "Synset('playfulness.n.02')\n"
          ]
        }
      ]
    },
    {
      "cell_type": "code",
      "source": [
        "for words in wordnet.synsets(\"Fun\"):\n",
        "  for lemma in words.lemmas():\n",
        "    print(lemma)\n",
        "  print(\"\\n\")"
      ],
      "metadata": {
        "colab": {
          "base_uri": "https://localhost:8080/"
        },
        "id": "DQhERS-B9jvA",
        "outputId": "bcc3a1bf-4860-4271-a51a-0cb9522c5961"
      },
      "execution_count": 73,
      "outputs": [
        {
          "output_type": "stream",
          "name": "stdout",
          "text": [
            "Lemma('fun.n.01.fun')\n",
            "Lemma('fun.n.01.merriment')\n",
            "Lemma('fun.n.01.playfulness')\n",
            "\n",
            "\n",
            "Lemma('fun.n.02.fun')\n",
            "Lemma('fun.n.02.play')\n",
            "Lemma('fun.n.02.sport')\n",
            "\n",
            "\n",
            "Lemma('fun.n.03.fun')\n",
            "\n",
            "\n",
            "Lemma('playfulness.n.02.playfulness')\n",
            "Lemma('playfulness.n.02.fun')\n",
            "\n",
            "\n"
          ]
        }
      ]
    },
    {
      "cell_type": "code",
      "source": [
        "word=wordnet.synsets(\"Play\")[0]\n",
        "print(word.name())\n",
        "print(word.definition())\n",
        "print(word.examples())"
      ],
      "metadata": {
        "colab": {
          "base_uri": "https://localhost:8080/"
        },
        "id": "hegsJ0QI-Ckr",
        "outputId": "e6bea197-4412-4621-de02-3694631a0e37"
      },
      "execution_count": 74,
      "outputs": [
        {
          "output_type": "stream",
          "name": "stdout",
          "text": [
            "play.n.01\n",
            "a dramatic work intended for performance by actors on a stage\n",
            "['he wrote several plays but only one was produced on Broadway']\n"
          ]
        }
      ]
    },
    {
      "cell_type": "code",
      "source": [
        "word=wordnet.synsets(\"Play\")[0]\n",
        "word.hyponyms()"
      ],
      "metadata": {
        "colab": {
          "base_uri": "https://localhost:8080/"
        },
        "id": "VF2WZCqP-FOA",
        "outputId": "14f8c730-3e42-460e-9fbe-8bf3bb593d5b"
      },
      "execution_count": 75,
      "outputs": [
        {
          "output_type": "execute_result",
          "data": {
            "text/plain": [
              "[Synset('grand_guignol.n.01'),\n",
              " Synset('miracle_play.n.01'),\n",
              " Synset('morality_play.n.01'),\n",
              " Synset('mystery_play.n.01'),\n",
              " Synset('passion_play.n.01'),\n",
              " Synset('playlet.n.01'),\n",
              " Synset('satyr_play.n.01'),\n",
              " Synset('theater_of_the_absurd.n.01')]"
            ]
          },
          "metadata": {},
          "execution_count": 75
        }
      ]
    },
    {
      "cell_type": "code",
      "source": [
        "word=wordnet.synsets(\"Play\")[0]\n",
        "print(word.lemmas()[0].name())"
      ],
      "metadata": {
        "colab": {
          "base_uri": "https://localhost:8080/"
        },
        "id": "M_2Q_58N_OCG",
        "outputId": "b9a43847-b1be-4b61-d2bb-178d5a863569"
      },
      "execution_count": 76,
      "outputs": [
        {
          "output_type": "stream",
          "name": "stdout",
          "text": [
            "play\n"
          ]
        }
      ]
    },
    {
      "cell_type": "code",
      "source": [
        "synonyms=[]\n",
        "for word in wordnet.synsets('Fun'):\n",
        "  for lemma in word.lemmas():\n",
        "    synonyms.append(lemma.name())\n",
        "synonyms"
      ],
      "metadata": {
        "colab": {
          "base_uri": "https://localhost:8080/"
        },
        "id": "2CyNgFLF_TBk",
        "outputId": "6e98be50-4bca-40e6-c297-97914c50d60e"
      },
      "execution_count": 77,
      "outputs": [
        {
          "output_type": "execute_result",
          "data": {
            "text/plain": [
              "['fun',\n",
              " 'merriment',\n",
              " 'playfulness',\n",
              " 'fun',\n",
              " 'play',\n",
              " 'sport',\n",
              " 'fun',\n",
              " 'playfulness',\n",
              " 'fun']"
            ]
          },
          "metadata": {},
          "execution_count": 77
        }
      ]
    },
    {
      "cell_type": "code",
      "source": [
        "antonyms=[]\n",
        "for word in wordnet.synsets('Natural'):\n",
        "  for lemma in word.lemmas():\n",
        "    if lemma.antonyms():\n",
        "      antonyms.append(lemma.antonyms()[0].name())\n",
        "antonyms"
      ],
      "metadata": {
        "colab": {
          "base_uri": "https://localhost:8080/"
        },
        "id": "Tk8460-U_Uz1",
        "outputId": "482286ba-4b7f-488d-e2a7-ecc09d9f888c"
      },
      "execution_count": 78,
      "outputs": [
        {
          "output_type": "execute_result",
          "data": {
            "text/plain": [
              "['unnatural', 'artificial', 'supernatural', 'sharp']"
            ]
          },
          "metadata": {},
          "execution_count": 78
        }
      ]
    },
    {
      "cell_type": "code",
      "source": [
        "a=wordnet.synsets(\"home\",\"n\")[0]\n",
        "b=wordnet.synsets(\"ship\",\"n\")[0]\n",
        "print(a.wup_similarity(b))"
      ],
      "metadata": {
        "colab": {
          "base_uri": "https://localhost:8080/"
        },
        "id": "8R8uORrZ_XjG",
        "outputId": "7c1b5e40-0fd6-4c44-83e3-cd2fa7a8871b"
      },
      "execution_count": 79,
      "outputs": [
        {
          "output_type": "stream",
          "name": "stdout",
          "text": [
            "0.3\n"
          ]
        }
      ]
    },
    {
      "cell_type": "code",
      "source": [
        "from nltk.corpus import wordnet\n",
        "from nltk.tokenize import word_tokenize\n",
        "from nltk.corpus import stopwords\n",
        "import string\n",
        "import nltk\n",
        "nltk.download('punkt')\n",
        "nltk.download('stopwords')\n",
        "\n",
        "def get_cleaned_tokens(sentence):\n",
        "    tokens = word_tokenize(sentence.lower())\n",
        "    stop_words = set(stopwords.words(\"english\"))\n",
        "    tokens = [token for token in tokens if token not in stop_words and token not in string.punctuation]\n",
        "    return tokens\n",
        "\n",
        "def get_sentence_similarity(sentence1, sentence2):\n",
        "    tokens1 = get_cleaned_tokens(sentence1)\n",
        "    tokens2 = get_cleaned_tokens(sentence2)\n",
        "\n",
        "    similarity_scores = []\n",
        "\n",
        "    for token1 in tokens1:\n",
        "        synsets1 = wordnet.synsets(token1)\n",
        "        for token2 in tokens2:\n",
        "            synsets2 = wordnet.synsets(token2)\n",
        "            max_similarity = 0\n",
        "\n",
        "            for synset1 in synsets1:\n",
        "                for synset2 in synsets2:\n",
        "                    similarity = synset1.wup_similarity(synset2)  # Wu-Palmer Similarity\n",
        "                    if similarity is not None and similarity > max_similarity:\n",
        "                        max_similarity = similarity\n",
        "\n",
        "            similarity_scores.append(max_similarity)\n",
        "\n",
        "    # Calculate the average similarity between all pairs of tokens\n",
        "    if similarity_scores:\n",
        "        average_similarity = sum(similarity_scores) / len(similarity_scores)\n",
        "        return average_similarity\n",
        "    else:\n",
        "        return 0.0\n",
        "\n",
        "sentence1 = \"the cm of ap is hero\"\n",
        "sentence2 = \"the prime minister of India is Zero\"\n",
        "\n",
        "similarity = get_sentence_similarity(sentence1, sentence2)\n",
        "print(\"Similarity:\", similarity)\n"
      ],
      "metadata": {
        "colab": {
          "base_uri": "https://localhost:8080/"
        },
        "id": "hFpPi9uW_bEK",
        "outputId": "2b8fc23a-9769-411e-e904-6d03ac13b199"
      },
      "execution_count": 80,
      "outputs": [
        {
          "output_type": "stream",
          "name": "stdout",
          "text": [
            "Similarity: 0.276871473226972\n"
          ]
        },
        {
          "output_type": "stream",
          "name": "stderr",
          "text": [
            "[nltk_data] Downloading package punkt to /root/nltk_data...\n",
            "[nltk_data]   Package punkt is already up-to-date!\n",
            "[nltk_data] Downloading package stopwords to /root/nltk_data...\n",
            "[nltk_data]   Package stopwords is already up-to-date!\n"
          ]
        }
      ]
    },
    {
      "cell_type": "code",
      "source": [
        "article1=\"Where is Manipur and who lives there? The hilly north-east Indian state sits east of Bangladesh and borders Myanmar. It is home to an estimated 3.3 million people. More than half are Meiteis, while around 43% are Kukis and Nagas, the predominant minority tribes.What is happening?At least 130 people have been killed and 400 wounded in violence that began in May. More than 60,000 have been forced from their homes as the army, paramilitary forces and police struggle to quell violence. Police armouries have been looted, hundreds of churches and more than a dozen temples ruined, and villages destroyed.\"\n",
        "article2=\"Thousands of guns were stolen when the unrest began, and militia groups on both sides of the state’s ethnic divide are hunkering down for a protracted fight. Prime Minister Narendra Modi this week faces a no-confidence motion in parliament over the violence, with the opposition accusing him of inaction. At least 150 people have been killed since May in ethnic violence in Manipur, a remote state in northeast India with a history of tensions between tribal groups. Soldiers were rushed in from other parts of the country to contain the violence, and months later a curfew and internet shutdown remain in force in most parts of the state.\"\n",
        "article3=\"Manipur is a state in north-east India with a population of around three million. It has been embroiled in an ethnic conflict since early May, fought between the majority Meitei community and the minority Kuki tribe. India’s north-eastern states have a history of ethnic rivalries dating back to before the country became independent in 1947. In Manipur, violence has erupted between the Meitei and the Kuki communities several times before. Tensions had been simmering between the two communities recently, driven in part by the Meitei-controlled state government. The government was accused of pursuing policies that discriminated against Kukis, including forced evictions that threatened the security of their land, and through an attempt to cast them as illegal immigrants.\""
      ],
      "metadata": {
        "id": "o1bW81DJGLy8"
      },
      "execution_count": 81,
      "outputs": []
    },
    {
      "cell_type": "code",
      "source": [
        "from nltk.tokenize import sent_tokenize\n",
        "\n",
        "sentence1 = sent_tokenize(article1)\n",
        "sentence2 = sent_tokenize(article2)\n",
        "sentence3 = sent_tokenize(article3)"
      ],
      "metadata": {
        "id": "YULeiMM_KakK"
      },
      "execution_count": 82,
      "outputs": []
    },
    {
      "cell_type": "code",
      "source": [
        "print(len(sentence1),len(sentence2),len(sentence3))"
      ],
      "metadata": {
        "colab": {
          "base_uri": "https://localhost:8080/"
        },
        "id": "fcjIxFiFLSy1",
        "outputId": "025971d0-f0d7-46cf-b519-714102de9ca3"
      },
      "execution_count": 83,
      "outputs": [
        {
          "output_type": "stream",
          "name": "stdout",
          "text": [
            "6 4 6\n"
          ]
        }
      ]
    },
    {
      "cell_type": "code",
      "source": [
        "def fun(s,sent):\n",
        "  res=[]\n",
        "  for i in s:\n",
        "    res.append(i)\n",
        "    for j in sent:\n",
        "      simi=get_sentence_similarity(i,j)\n",
        "      if simi<0.4:\n",
        "        print(\"true\"+str(simi))\n",
        "\n",
        "        res.append(j)\n",
        "    return res\n"
      ],
      "metadata": {
        "id": "5DbynsdoNvs8"
      },
      "execution_count": 105,
      "outputs": []
    },
    {
      "cell_type": "code",
      "source": [
        "final_article=fun(fun(sentence1,sentence2),sentence3)"
      ],
      "metadata": {
        "colab": {
          "base_uri": "https://localhost:8080/"
        },
        "id": "ozy-qcurO-0l",
        "outputId": "416e55ae-ea66-4b72-8202-06cc2c5f705a"
      },
      "execution_count": 85,
      "outputs": [
        {
          "output_type": "stream",
          "name": "stdout",
          "text": [
            "true0.39706734442028563\n",
            "true0.3438537557940987\n",
            "0.4583686457616525\n",
            "0.4576939615252309\n",
            "0.4744140883411394\n",
            "true0.34760590716473067\n",
            "0.4025939092264407\n",
            "true0.3895973613804496\n",
            "0.42506185807656394\n",
            "true0.3871898915605378\n"
          ]
        }
      ]
    },
    {
      "cell_type": "code",
      "source": [
        "for j in final_article:\n",
        "  print(j,end=\" \")"
      ],
      "metadata": {
        "colab": {
          "base_uri": "https://localhost:8080/"
        },
        "id": "TbJx1ZACQTOx",
        "outputId": "43f783c0-d40b-4d05-90e1-1cb0c0514ef5"
      },
      "execution_count": 86,
      "outputs": [
        {
          "output_type": "stream",
          "name": "stdout",
          "text": [
            "Manipur is a state in north-east India with a population of around three million. Where is Manipur and who lives there? It has been embroiled in an ethnic conflict since early May, fought between the majority Meitei community and the minority Kuki tribe. India’s north-eastern states have a history of ethnic rivalries dating back to before the country became independent in 1947. Where is Manipur and who lives there? In Manipur, violence has erupted between the Meitei and the Kuki communities several times before. Tensions had been simmering between the two communities recently, driven in part by the Meitei-controlled state government. Where is Manipur and who lives there? The government was accused of pursuing policies that discriminated against Kukis, including forced evictions that threatened the security of their land, and through an attempt to cast them as illegal immigrants. "
          ]
        }
      ]
    },
    {
      "cell_type": "code",
      "source": [
        "len(final_article)"
      ],
      "metadata": {
        "colab": {
          "base_uri": "https://localhost:8080/"
        },
        "id": "nzOMOYZCQZjE",
        "outputId": "1df9c0fd-7d63-4669-de54-4b7febcd9a08"
      },
      "execution_count": 87,
      "outputs": [
        {
          "output_type": "execute_result",
          "data": {
            "text/plain": [
              "9"
            ]
          },
          "metadata": {},
          "execution_count": 87
        }
      ]
    },
    {
      "cell_type": "code",
      "source": [
        "a=b=c=0\n",
        "for i in final_article:\n",
        "  if i in sentence1:\n",
        "    a+=1\n",
        "  elif i in sentence2:\n",
        "    b+=1\n",
        "  elif i in sentence3:\n",
        "    c+=1\n"
      ],
      "metadata": {
        "id": "z7KzeyWJQc3O"
      },
      "execution_count": 88,
      "outputs": []
    },
    {
      "cell_type": "code",
      "source": [
        "def calculate_percentages(numbers):\n",
        "    total = sum(numbers)\n",
        "    percentages = [(number / total) * 100 for number in numbers]\n",
        "    return percentages"
      ],
      "metadata": {
        "id": "XTc1vY0FQ-WM"
      },
      "execution_count": 89,
      "outputs": []
    },
    {
      "cell_type": "code",
      "source": [
        "calculate_percentages([a,b,c])"
      ],
      "metadata": {
        "colab": {
          "base_uri": "https://localhost:8080/"
        },
        "id": "MvmTLb8aRNH3",
        "outputId": "56002b07-d357-4930-a0b2-2bf778423ab8"
      },
      "execution_count": 90,
      "outputs": [
        {
          "output_type": "execute_result",
          "data": {
            "text/plain": [
              "[33.33333333333333, 0.0, 66.66666666666666]"
            ]
          },
          "metadata": {},
          "execution_count": 90
        }
      ]
    },
    {
      "cell_type": "code",
      "source": [
        "!pip install requests\n",
        "!pip install beautifulsoup4"
      ],
      "metadata": {
        "id": "HcSwOvaRRP6i",
        "colab": {
          "base_uri": "https://localhost:8080/"
        },
        "outputId": "0521614a-38d9-422f-a499-f134f8694e4e"
      },
      "execution_count": 91,
      "outputs": [
        {
          "output_type": "stream",
          "name": "stdout",
          "text": [
            "Requirement already satisfied: requests in /usr/local/lib/python3.10/dist-packages (2.31.0)\n",
            "Requirement already satisfied: charset-normalizer<4,>=2 in /usr/local/lib/python3.10/dist-packages (from requests) (3.2.0)\n",
            "Requirement already satisfied: idna<4,>=2.5 in /usr/local/lib/python3.10/dist-packages (from requests) (3.4)\n",
            "Requirement already satisfied: urllib3<3,>=1.21.1 in /usr/local/lib/python3.10/dist-packages (from requests) (2.0.4)\n",
            "Requirement already satisfied: certifi>=2017.4.17 in /usr/local/lib/python3.10/dist-packages (from requests) (2023.7.22)\n",
            "Requirement already satisfied: beautifulsoup4 in /usr/local/lib/python3.10/dist-packages (4.11.2)\n",
            "Requirement already satisfied: soupsieve>1.2 in /usr/local/lib/python3.10/dist-packages (from beautifulsoup4) (2.4.1)\n"
          ]
        }
      ]
    },
    {
      "cell_type": "code",
      "source": [
        "!pip install beautifulsoup4\n"
      ],
      "metadata": {
        "id": "FWubQiO7Ju-1",
        "colab": {
          "base_uri": "https://localhost:8080/"
        },
        "outputId": "435ad49a-2128-4363-9725-261c6be73950"
      },
      "execution_count": 92,
      "outputs": [
        {
          "output_type": "stream",
          "name": "stdout",
          "text": [
            "Requirement already satisfied: beautifulsoup4 in /usr/local/lib/python3.10/dist-packages (4.11.2)\n",
            "Requirement already satisfied: soupsieve>1.2 in /usr/local/lib/python3.10/dist-packages (from beautifulsoup4) (2.4.1)\n"
          ]
        }
      ]
    },
    {
      "cell_type": "code",
      "source": [
        "from bs4 import BeautifulSoup\n",
        "\n",
        "html_code = \"\"\"\n",
        "<html>\n",
        "<head>\n",
        "    <title>Sample HTML</title>\n",
        "</head>\n",
        "<body>\n",
        "    <h1>This is a heading</h1>\n",
        "    <p>This is a paragraph.</p>\n",
        "    <ul>\n",
        "        <li>Item 1</li>\n",
        "        <li>Item 2</li>\n",
        "        <li>Item 3</li>\n",
        "    </ul>\n",
        "</body>\n",
        "</html>\n",
        "\"\"\"\n",
        "\n",
        "# Parse the HTML code using BeautifulSoup\n",
        "soup = BeautifulSoup(html_code, 'html.parser')\n",
        "\n",
        "# Extract and print the text content\n",
        "text_content = soup.get_text()\n",
        "print(text_content)\n"
      ],
      "metadata": {
        "colab": {
          "base_uri": "https://localhost:8080/"
        },
        "id": "8QW6z116ZMZz",
        "outputId": "3b617c55-0446-4a64-d6f1-2d25d39ca57e"
      },
      "execution_count": 93,
      "outputs": [
        {
          "output_type": "stream",
          "name": "stdout",
          "text": [
            "\n",
            "\n",
            "\n",
            "Sample HTML\n",
            "\n",
            "\n",
            "This is a heading\n",
            "This is a paragraph.\n",
            "\n",
            "Item 1\n",
            "Item 2\n",
            "Item 3\n",
            "\n",
            "\n",
            "\n",
            "\n"
          ]
        }
      ]
    },
    {
      "cell_type": "code",
      "source": [
        "!pip install requests readability-lxml\n"
      ],
      "metadata": {
        "colab": {
          "base_uri": "https://localhost:8080/"
        },
        "id": "t8FLJ8L1Iw9x",
        "outputId": "e51b2257-13ea-4133-fa5e-1fe94fe46de4"
      },
      "execution_count": 94,
      "outputs": [
        {
          "output_type": "stream",
          "name": "stdout",
          "text": [
            "Requirement already satisfied: requests in /usr/local/lib/python3.10/dist-packages (2.31.0)\n",
            "Requirement already satisfied: readability-lxml in /usr/local/lib/python3.10/dist-packages (0.8.1)\n",
            "Requirement already satisfied: charset-normalizer<4,>=2 in /usr/local/lib/python3.10/dist-packages (from requests) (3.2.0)\n",
            "Requirement already satisfied: idna<4,>=2.5 in /usr/local/lib/python3.10/dist-packages (from requests) (3.4)\n",
            "Requirement already satisfied: urllib3<3,>=1.21.1 in /usr/local/lib/python3.10/dist-packages (from requests) (2.0.4)\n",
            "Requirement already satisfied: certifi>=2017.4.17 in /usr/local/lib/python3.10/dist-packages (from requests) (2023.7.22)\n",
            "Requirement already satisfied: chardet in /usr/local/lib/python3.10/dist-packages (from readability-lxml) (5.2.0)\n",
            "Requirement already satisfied: lxml in /usr/local/lib/python3.10/dist-packages (from readability-lxml) (4.9.3)\n",
            "Requirement already satisfied: cssselect in /usr/local/lib/python3.10/dist-packages (from readability-lxml) (1.2.0)\n"
          ]
        }
      ]
    },
    {
      "cell_type": "code",
      "source": [
        "import requests\n",
        "from readability import Document\n",
        "\n",
        "def get_main_content(url):\n",
        "    response = requests.get(url)\n",
        "\n",
        "    if response.status_code == 200:\n",
        "        doc = Document(response.text)\n",
        "        content = doc.summary()\n",
        "        return content\n",
        "    else:\n",
        "        print(f\"Error fetching content from {url}\")\n",
        "\n",
        "if __name__ == \"__main__\":\n",
        "    user_url = input(\"Enter the URL of the website you want to scrape: \")\n",
        "    main_content = get_main_content(user_url)\n",
        "\n",
        "    if main_content:\n",
        "        # You can process or save the main_content as needed\n",
        "        print(BeautifulSoup(main_content, 'html.parser').get_text())\n",
        "        # print(main_content)\n"
      ],
      "metadata": {
        "colab": {
          "base_uri": "https://localhost:8080/"
        },
        "id": "zO8I70SEHpkd",
        "outputId": "b8aa3f3d-7ad5-423d-b4ae-7f3b27e1c6dc"
      },
      "execution_count": 95,
      "outputs": [
        {
          "output_type": "stream",
          "name": "stdout",
          "text": [
            "Enter the URL of the website you want to scrape: https://en.wikipedia.org/wiki/Khaleja\n",
            "2010 film directed by Trivikram Srinivas\n",
            "\n",
            "\n",
            "Khaleja[a] (transl. Courage)[2] is a 2010 Indian Telugu-language action comedy film written and directed by Trivikram Srinivas. The film stars Mahesh Babu, Anushka Shetty and Prakash Raj, while Shafi , Sunil, Brahmanandam and Ali play supporting roles. The plot follows Raju (Babu), a cab driver who gets hailed as God in a remote village and ends up facing GK (Raj), a powerful industrialist, to save the village. The film deals with illegal-mining in India, and related environmental damage.[3] It marks Babu's return as an actor after a three-year hiatus in his second collaboration with Trivikram after Athadu.\n",
            "The film is released on 7 October 2010. The film won two Filmfare South awards for Best Male Playback Singer and Best Lyricist.[4][5] The film was listed in the Film Companion's \"25 Greatest Telugu Films of the Decade.\"[6]\n",
            "\n",
            "\n",
            "A remote village named Pali in Andhra Pradesh is struck by an unknown disease, with several villagers dying each month. The village tantrik predicts a powerful man will come to their rescue as God. He assigns his assistant Siddhappa with the duty to find a man with such supernatural power and bring him to their village.\n",
            "A Gemini TV reporter named Babji arrives at Rajasthan to shoot a travel documentary where he comes across Alluri Seetharama Raju aka Raju, a short-tempered cab driver. Raju introduces himself to Babji and tells him the reason for him being in Rajasthan. Raju met a woman named Subhashini, whom he considers as bad luck to him, as she created a never-ending disasters for him and his cab. Later, he drives a scientist and his assistant to the Geological Survey office. Whilst returning a wallet to the scientist, Raju unwittingly witnesses the scientist and his assistant getting murdered, the latter of whom falls on and damages his cab. Raju's employer tasks him to deliver the cheque of ₹500,000 (US$6,300) to the assistant, Bilavar Singh's family in Girdwala, Rajasthan and get ₹100,000 (US$1,300) in return to pay for the damages.\n",
            "Meanwhile, Subhashini's father, sugarcane businessman Durga Prasad, brings her a match, the son of his business partner named Gopalkrishnan “GK”. The main reason for the proposal is to establish a strong project between Durga Prasad and GK. GK's son takes Subhashini to Rajasthan for a date. However, Subhashini runs away after she sees a packet of condoms from GK's son's pocket. GK finds out about it, informs Prasad and promises to bring Subhashini back. He sends his henchman Govardhan to Rajasthan in search of Subhashini. To Raju's dismay, Subhashini finds him and Babji and learns that she is in Rajasthan. Subhashini, Babji, Raju, and a botanist named Tom Cruise find Girdwala and hand the cheque to Bilavar's family, but Raju refuses to ask for the ₹100,000 (US$1,300) upon seeing the family's poverty.\n",
            "Tom is forced to remain in the village as the villagers want to punish him for cutting a sentimental plant. Babji goes away with his shooting team but does not offer them a ride as he is scared of Subhashini's antics. As Raju and Subhashini wait for the bus to leave Girdwala, Govardhan's men stab Raju and take Subhashini after knocking her unconscious. However, Raju survives and kills almost all of Govardhan's men, while Govardhan himself escapes from the scenario, leaving Subhashini behind. Just as Raju goes unconscious, Sidhappa discovers him after all the omens the Tantrik predicts come true. Sidhappa and Subhashini take Raju to Pali, where the villagers treat his wounds.\n",
            "After waking up, he finds all of the villagers praising him as their God, much to his dismay. He finds out from Subhashini that they are in Pali and that the villagers see him as the supernatural godsend that the Tantrik described and who will rescue the village. After a medical camp that is set up to help the villagers is ordered to shut down on GK's orders, Raju fights the men sent to quell unrest and unwittingly revives a dead girl, solidifying the villagers' belief in his powers. Initially reluctant to help them out, Raju escapes to Hyderabad, where he hands over Subhashini to her father.\n",
            "After realizing that Tom and Siddappa followed him to Hyderabad, Raju tests his fate and realizes the concept of deityhood. Deciding to solve the mystical series of deaths in the village he and Tom track down the doctor who had the medical camp closed, the dean of the medical college who signed the closure order and Govardhan. Raju interrogates them and discovers that the plastic factory in Pali deposits its wastes in the drinking water source nearby, thus contaminating and killing the villagers.\n",
            "Interrogating Durga Prasad's lawyer Miriyam, Raju finds out that GK wanted Subhashni and his son married so that he could use Prasad's sugarcane to create plastic. Encountering the scientist's assistant, Raju forces her to reveal the truth, that the scientist, Dr Paranji had stopped at Girdwal, and discovered the idol of Krishna they worshipped to be made of iridium, a valuable metal. Tracing its origin back to Pali, Paranji reported his findings to GK, who planned to mine the iridium for his own profit but couldn't convince Paranji to side with him. Warning him that it would not end well for him if he tried to go public, GK decided to use the villagers's superstitions against them and make them voluntarily vacate the village so that he could mine the iridium without any issue.\n",
            "Despite GK's warning to Paranji not to reveal it to anybody else, Praranji tries to inform the Geological Survey about the deposits, which was why he and Bilavar, who was with him, were killed that day. GK also decided to dispose of Raju as he was an unexpected witness. GK lured Raju to Girdwala under the cover of delivering the insurance cheque to Bilavar's family, which was planted and was attacked by Govardhan. GK needed the strong plasticglass from the plastic factory to pack the iridium.\n",
            "GK kills his assistant and Govardhan for their failures. He then heads to Pali to kill all the villagers before the truth goes out to the public. The Tantrik warns GK that his greed would be his downfall, that Raju would save the villagers and bring death to GK, and keep Pali's population at 534, not letting any more die in the process. Raju arrives at Pali along with Sidhappa. GK shoots and kills Sidhappa, reducing the population to 533. Before dying, Siddhappa dies peacefully in Raju's arms. Enraged, Raju massacres GK's men and severs GK's palm. A terrified GK tries to run with Raju in pursuit. Raju catches up to him, and GK dies when a religious knife hanging from a nearby tree falls and stabs him in the neck after Raju curses him to die. The Tantrik reveals that Raju fulfilled his mission as God to save the village because although Sidhappa was killed, another baby was born to keep the village's population at 534. A new flag is being raised in the honor of child's birth.\n",
            "\n",
            "\n",
            "The soundtrack was composed by Mani Sharma. The music was released on 27 September 2010.[7] The starcast of the movie, including Mahesh Babu, actress Anushka Shetty, music director Mani Sharma and director Trivikram Srinivas released the audio at Radio Mirchi FM radio station in the Hyderabad. Mahesh Babu's wife Namrata Shirodkar was also present. The album contains six songs and the lyrics are written by Ramajogayya Sastry and Sirivennela Sitaramasastri.[5]\n",
            "Reception[edit]\n",
            "Sify rated 3 out of 5 explained \"No doubt, Mahesh is the cynosure of the movie, shouldering the entire responsibility.\"[3] MSN rated 3 out of 5 and described the film as \"just an above average venture\", commenting, \"Mahesh Khaleja is worth a watch for Mahesh's strong screen presence and charisma. Mahesh carries off his role with elan and looks superb too. Anushka looks pretty but doesn't share a good on-screen chemistry with Mahesh. The first half of the film is dull. It does pick up pace in the second half but the narration is inconsistent and tedious. The climax is little better.[8] Rediff gave a 3 out of 5 rating and noted \"The duo of Mahesh-Trivikram delivers a product that is watchable, entertaining with good humour, couple of well-orchestrated action sequences and songs and with a bit to take home as well. It's Mahesh's show all the way, much to the delight of his fans. Mahesh is the soul of the movie, be it his dialogue delivery, his action, his dances or emotions, he is effortless.[9]\n",
            "CNN-IBN gave a mixed review stating \"The movie is all about Mahesh Babu and he occupies almost every frame in the movie. Back after a gap of 4 years, Mahesh looks great with stylish costumes. The movie deals with a serious theme but director Trivikram Srinivas mixes it with a lot of unnecessary situational comedy which dilutes the intensity of the movie.\"[10]\n",
            "\n",
            "Filmfare Awards South\n",
            "Won\n",
            "Nominated\n",
            "\n",
            "\n",
            "^ Also known as Mahesh Khaleja\n",
            "\n",
            "\n",
            "References[edit]\n",
            "External links[edit]\n",
            "\n",
            "\n",
            "\n"
          ]
        }
      ]
    },
    {
      "cell_type": "code",
      "source": [
        "from googlesearch import search\n",
        "import requests\n",
        "from bs4 import BeautifulSoup\n",
        "\n",
        "def get_text_from_url(url):\n",
        "    response = requests.get(url)\n",
        "\n",
        "    if response.status_code == 200:\n",
        "        soup = BeautifulSoup(response.content, \"html.parser\")\n",
        "        text = soup.get_text()\n",
        "        return text\n",
        "    else:\n",
        "        print(f\"Error fetching content from {url}\")\n",
        "\n",
        "if __name__ == \"__main__\":\n",
        "    articles=[]\n",
        "\n",
        "    query = input(\"Enter your search query: \")\n",
        "    num_results = 3\n",
        "\n",
        "    search_results = search(query, num=num_results, stop=num_results)\n",
        "\n",
        "    for idx, result_url in enumerate(search_results, start=1):\n",
        "        print(f\"\\nResult {idx}: {result_url}\")\n",
        "        text_content = get_text_from_url(result_url)\n",
        "        articles.append(BeautifulSoup(get_main_content(result_url), 'html.parser').get_text())\n",
        "\n",
        "        # if text_content:\n",
        "        #     # You can process or save the text_content as needed\n",
        "        #     print(text_content[:300])  # Print the first 300 characters of the content\n"
      ],
      "metadata": {
        "colab": {
          "base_uri": "https://localhost:8080/"
        },
        "id": "h3hZeGwI-qNu",
        "outputId": "84fa1e8d-f84b-4997-99f9-7c5a56852cf9"
      },
      "execution_count": 101,
      "outputs": [
        {
          "output_type": "stream",
          "name": "stdout",
          "text": [
            "Enter your search query: ban of 2000 rupee note\n",
            "\n",
            "Result 1: https://indianexpress.com/article/explained/explained-2000-rupee-notes-withdrawal-why-has-the-rbi-done-this-8619041/\n",
            "\n",
            "Result 2: https://www.forbes.com/advisor/in/personal-finance/why-has-rbi-withdrawn-2000-rupee-note/\n",
            "\n",
            "Result 3: https://www.reuters.com/business/finance/what-indias-decision-scrap-its-2000-rupee-note-means-its-economy-2023-05-20/\n"
          ]
        }
      ]
    },
    {
      "cell_type": "code",
      "source": [
        "from nltk.tokenize import sent_tokenize\n",
        "import nltk\n",
        "nltk.download('punkt')\n",
        "s1 = sent_tokenize(articles[0])\n",
        "s2 = sent_tokenize(articles[1])\n",
        "s3 = sent_tokenize(articles[2])"
      ],
      "metadata": {
        "id": "AP5ygK9DIteU",
        "colab": {
          "base_uri": "https://localhost:8080/"
        },
        "outputId": "0c9faf88-5221-4401-a6bd-5ae141515b27"
      },
      "execution_count": 102,
      "outputs": [
        {
          "output_type": "stream",
          "name": "stderr",
          "text": [
            "[nltk_data] Downloading package punkt to /root/nltk_data...\n",
            "[nltk_data]   Package punkt is already up-to-date!\n"
          ]
        }
      ]
    },
    {
      "cell_type": "code",
      "source": [
        "final_article=fun(fun(s1,s2),s3)"
      ],
      "metadata": {
        "colab": {
          "base_uri": "https://localhost:8080/"
        },
        "id": "ptWokpnMTk_l",
        "outputId": "9b65209e-d769-4f33-cdc4-e2ad1b25abb4"
      },
      "execution_count": 106,
      "outputs": [
        {
          "output_type": "stream",
          "name": "stdout",
          "text": [
            "true0.33051686536998987\n",
            "true0.3217470428915927\n",
            "true0.3165702112781733\n",
            "true0.35548827926370496\n",
            "true0.31333437113150275\n",
            "true0.3400886537697945\n",
            "true0.324735078527191\n",
            "true0.31976614988129215\n",
            "true0.2438701206949298\n",
            "true0.2981806228969855\n",
            "true0.3265821522866143\n",
            "true0.311903179474964\n",
            "true0.33552653580948516\n",
            "true0.3124286757570542\n",
            "true0.28722838889920677\n",
            "true0.27813803495637707\n",
            "true0.35511389829194406\n",
            "true0.3599455599564191\n",
            "true0.305488540299307\n",
            "true0.24387471833292257\n",
            "true0.30716766089717135\n",
            "true0.28786834727859184\n",
            "true0.24387471833292257\n",
            "true0.3279791410993417\n",
            "true0.30086897973195864\n",
            "true0.2849410291250186\n",
            "true0.3345310951128621\n",
            "true0.3326360304068175\n",
            "true0.3289855033690302\n",
            "true0.34685532908396466\n",
            "true0.32919284264175247\n",
            "true0.31526395363252513\n",
            "true0.29957974092252826\n",
            "true0.22749341481689705\n",
            "true0.2476613381826786\n",
            "true0.3740163362255653\n",
            "true0.30731983336022595\n",
            "true0.0\n",
            "true0.27883864854678053\n",
            "true0.31186901011784923\n",
            "true0.3261091488224059\n",
            "true0.3448078871775697\n",
            "true0.3948112111977662\n",
            "true0.0\n",
            "true0.32589958638651184\n",
            "true0.28354660247470037\n",
            "true0.2934341526655767\n",
            "true0.33349237802198356\n",
            "true0.348221041521973\n",
            "true0.3808435798715271\n",
            "true0.33827451889218424\n",
            "true0.3671338469017033\n",
            "true0.30858600472688136\n",
            "true0.3058832994374983\n",
            "true0.2803613454501294\n",
            "true0.323926776843234\n",
            "true0.3358894021965547\n",
            "true0.29037189198171237\n",
            "true0.31272808384797585\n",
            "true0.27236267475364256\n",
            "true0.3037812304387029\n",
            "true0.30117389426298424\n",
            "true0.3229455008438696\n",
            "true0.34102554473786345\n",
            "true0.30967075699576957\n",
            "true0.24512095048343036\n"
          ]
        }
      ]
    },
    {
      "cell_type": "code",
      "source": [
        "for j in final_article:\n",
        "  print(j)"
      ],
      "metadata": {
        "colab": {
          "base_uri": "https://localhost:8080/"
        },
        "id": "WFB_mcXraxMa",
        "outputId": "679e7696-945d-4f93-c339-a5aa6bcc0b31"
      },
      "execution_count": 107,
      "outputs": [
        {
          "output_type": "stream",
          "name": "stdout",
          "text": [
            "The central bank has advised the public to deposit Rs 2000 banknotes, which were introduced after Rs 500 and Rs 1000 notes were withdrawn during the demonetisation exercise six years ago, into their bank accounts and /or exchange them into banknotes of other denominations at any bank branch.The Rs 2000 note was introduced in November 2016 under Section 24(1) of The RBI Act, 1934, primarily with the objective of meeting the currency requirement of the economy expeditiously after the legal tender status of Rs 500 and Rs 1000 notes was withdrawn.\n",
            "An India Rupee note is seen in this illustration photo June 1, 2017.\n",
            "REUTERS/Thomas White/Illustration  Acquire Licensing RightsMUMBAI, May 20 (Reuters) - India will withdraw its highest denomination currency note from circulation, the central bank said on Friday.\n",
            "The 2000-rupee note, introduced into circulation in 2016, will remain legal tender but citizens have been asked to deposit or exchange these notes by Sept. 30, 2023.The decision is reminiscent of a shock move in 2016 when the Narenda Modi-led government had withdrawn 86% of the economy's currency in circulation overnight.This time, however, the move is expected to be less disruptive as a lower value of notes is being withdrawn over a longer period of time, according to analysts and economists.WHY DID THE GOVERNMENT WITHDRAW 2000-RUPEE NOTES?When 2000-rupee notes were introduced in 2016 they were intended to replenish the Indian economy's currency in circulation quickly after demonetisation.However, the central bank has frequently said that it wants to reduce high value notes in circulation and had stopped printing 2000-rupee notes over the past four years.\n",
            "\"This denomination is not commonly used for transactions,\" the Reserve Bank of India said in its communication while explaining the decision to withdraw these notes.Reuters GraphicsWHY NOW?While the government and the central bank did not specify the reason for the timing of the move, analysts point out that it comes ahead of state and general elections in the country when cash usage typically spikes.\n",
            "\"Making such a move ahead of the general elections is a wise decision,\" said Rupa Rege Nitsure, group chief economist at L&T Finance Holdings.\n",
            "\"People who have been using these notes as a store of value may face inconvenience,\" she said.WILL THIS HURT ECONOMIC GROWTH?The value of 2000-rupee notes in circulation is 3.62 trillion Indian rupees ($44.27 billion).\n",
            "This is about 10.8% of the currency in circulation.\n",
            "\"This withdrawal will not create any big disruption, as the notes of smaller quantity are available in sufficient quantity,\" said Nitsure.\n",
            "\"Also in the past 6-7 years, the scope of digital transactions and e-commerce has expanded significantly.\n",
            "\"But small businesses and cash-oriented sectors such as agriculture and construction could see inconvenience in the near term, said Yuvika Singhal, economist at QuantEco Research.To the extent that people holding these notes chose to make purchases with them rather than deposit them in bank accounts, there could be some spurt in discretionary purchases such as gold, said Singhal.HOW WILL IT AFFECT BANKS?As the government has asked people to deposit or exchange the notes for smaller denominations by Sept. 30, bank deposits will rise.\n",
            "This comes at a time when deposit growth is lagging bank credit growth.This will ease the pressure on deposit rate hikes, said Karthik Srinivasan, group head - financial sector ratings at rating agency ICRA Ltd.Banking system liquidity will also improve.\n",
            "\"Since all the 2000-rupee notes will come back in the banking system, we will see a reduction in cash in circulation and that will in turn help improve banking system liquidity,\" said Madhavi Arora, economist at Emkay Global Financial Services.WHAT ARE THE IMPLICATIONS FOR BOND MARKETS?Improved banking system liquidity and an inflow of deposits into banks could mean that short-term interest rates in the market drop as these funds get invested in shorter-term government securities, said Srinivasan.\n",
            "($1 = 81.7800 Indian rupees)Reporting by Ira Dugal; Editing by Jacqueline WongOur Standards: The Thomson Reuters Trust Principles.\n"
          ]
        }
      ]
    },
    {
      "cell_type": "code",
      "source": [
        "a=b=c=0\n",
        "for i in final_article:\n",
        "  if i in s1:\n",
        "    a+=1\n",
        "  elif i in s2:\n",
        "    b+=1\n",
        "  elif i in s3:\n",
        "    c+=1\n"
      ],
      "metadata": {
        "id": "IAg_MW-Qa7Wm"
      },
      "execution_count": 109,
      "outputs": []
    },
    {
      "cell_type": "code",
      "source": [
        "def calculate_percentages(numbers):\n",
        "    total = sum(numbers)\n",
        "    percentages = [(number / total) * 100 for number in numbers]\n",
        "    return percentages"
      ],
      "metadata": {
        "id": "vAOKz81GhlHP"
      },
      "execution_count": 110,
      "outputs": []
    },
    {
      "cell_type": "code",
      "source": [
        "calculate_percentages([a,b,c])"
      ],
      "metadata": {
        "colab": {
          "base_uri": "https://localhost:8080/"
        },
        "id": "Bl7HGsMThqhw",
        "outputId": "dc5d771f-9847-4267-c87c-db430f554425"
      },
      "execution_count": 111,
      "outputs": [
        {
          "output_type": "execute_result",
          "data": {
            "text/plain": [
              "[7.142857142857142, 0.0, 92.85714285714286]"
            ]
          },
          "metadata": {},
          "execution_count": 111
        }
      ]
    },
    {
      "cell_type": "code",
      "source": [],
      "metadata": {
        "id": "ahM5fn_4hrne"
      },
      "execution_count": null,
      "outputs": []
    }
  ]
}